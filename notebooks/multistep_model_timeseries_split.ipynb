{
 "cells": [
  {
   "cell_type": "code",
   "execution_count": 2,
   "metadata": {},
   "outputs": [],
   "source": [
    "import numpy as np\n",
    "import xarray as xr\n",
    "import matplotlib.pyplot as plt\n",
    "import datetime as dt\n",
    "import pandas as pd"
   ]
  },
  {
   "cell_type": "code",
   "execution_count": 3,
   "metadata": {},
   "outputs": [],
   "source": [
    "nwp_path = \"gs://solar-pv-nowcasting-data/NWP/UK_Met_Office/UKV_intermediate_version_3.zarr/\"\n",
    "gsp_path = \"gs://solar-pv-nowcasting-data/PV/GSP/v5/pv_gsp.zarr\"\n",
    "gsp = xr.open_zarr(gsp_path)\n",
    "nwp = xr.open_zarr(nwp_path)"
   ]
  },
  {
   "cell_type": "code",
   "execution_count": 11,
   "metadata": {},
   "outputs": [
    {
     "data": {
      "text/plain": [
       "array(['2020-01-01T00:00:00.000000000', '2020-01-01T00:30:00.000000000',\n",
       "       '2020-01-01T01:00:00.000000000', ...,\n",
       "       '2021-12-31T22:30:00.000000000', '2021-12-31T23:00:00.000000000',\n",
       "       '2021-12-31T23:30:00.000000000'], dtype='datetime64[ns]')"
      ]
     },
     "execution_count": 11,
     "metadata": {},
     "output_type": "execute_result"
    }
   ],
   "source": [
    "gsp[\"datetime_gmt\"].values[(gsp[\"datetime_gmt\"] >= np.datetime64(\"2020-01-01\")) & (gsp[\"datetime_gmt\"] < np.datetime64(\"2022-01-01\"))]"
   ]
  },
  {
   "cell_type": "code",
   "execution_count": 3,
   "metadata": {},
   "outputs": [],
   "source": [
    "evaluation_timeseries = gsp.coords[\"datetime_gmt\"].where(\n",
    "        (gsp[\"datetime_gmt\"] >= nwp.coords[\"init_time\"].values[0]) & (gsp[\"datetime_gmt\"] <= nwp.coords[\"init_time\"].values[-1]), \n",
    "        drop=True).values\n",
    "\n",
    "gsp = gsp.sel(datetime_gmt = evaluation_timeseries, gsp_id=0)"
   ]
  },
  {
   "cell_type": "code",
   "execution_count": 5,
   "metadata": {},
   "outputs": [],
   "source": [
    "# stolen from datapipes\n",
    "\n",
    "from pandas.core.dtypes.common import is_datetime64_dtype\n",
    "import numpy.typing as npt\n",
    "from typing import Union, Tuple\n",
    "\n",
    "\n",
    "TRIG_DATETIME_FEATURE_NAMES = [\"SIN_MONTH\", \"COS_MONTH\", \"SIN_DAY\", \"COS_DAY\", \"SIN_HOUR\", \"COS_HOUR\"]\n",
    "\n",
    "\n",
    "def _trig_transform(values: np.ndarray, period: Union[float, int]) -> Tuple[np.ndarray, np.ndarray]:\n",
    "    \"\"\"\n",
    "    Given a list of values and an upper limit on the values, compute trig decomposition.\n",
    "    Args:\n",
    "        values: ndarray of points in the range [0, period]\n",
    "        period: period of the data\n",
    "    Returns:\n",
    "        Decomposition of values into sine and cosine of data with given period\n",
    "    \"\"\"\n",
    "\n",
    "    return np.sin(values * 2 * np.pi / period), np.cos(values * 2 * np.pi / period)\n",
    "\n",
    "\n",
    "def trigonometric_datetime_transformation(datetimes: npt.ArrayLike) -> np.ndarray:\n",
    "    \"\"\"\n",
    "    Given an iterable of datetimes, returns a trigonometric decomposition on hour, day and month\n",
    "    Args:\n",
    "        datetimes: ArrayLike of datetime64 values\n",
    "    Returns:\n",
    "        Trigonometric decomposition of datetime into hourly, daily and\n",
    "        monthly values.\n",
    "    \"\"\"\n",
    "    assert is_datetime64_dtype(datetimes), \"Data for Trig Decomposition must be np.datetime64 type\"\n",
    "\n",
    "    datetimes = pd.DatetimeIndex(datetimes)\n",
    "    hour = datetimes.hour.values.reshape(-1, 1) + (datetimes.minute.values.reshape(-1, 1) / 60)\n",
    "    day = datetimes.day.values.reshape(-1, 1)\n",
    "    month = datetimes.month.values.reshape(-1, 1)\n",
    "\n",
    "    sine_hour, cosine_hour = _trig_transform(hour, 24)\n",
    "    sine_day, cosine_day = _trig_transform(day, 366)\n",
    "    sine_month, cosine_month = _trig_transform(month, 12)\n",
    "\n",
    "    return np.concatenate(\n",
    "        [sine_month, cosine_month, sine_day, cosine_day, sine_hour, cosine_hour], axis=1\n",
    "    )\n",
    "\n",
    "\n",
    "def build_datasets_from_local(step: int) -> Tuple[pd.DataFrame, pd.DataFrame]:\n",
    "    X = np.load(f\"/home/tom/local_data/basic_processed_nwp_data_step_{step}.npy\")\n",
    "    X = pd.DataFrame(data=X.reshape(X.shape[1], X.shape[2]).T, columns=nwp.coords[\"variable\"], index=evaluation_timeseries)\n",
    "    y = pd.DataFrame(gsp[\"generation_mw\"] / gsp[\"installedcapacity_mwp\"], index=evaluation_timeseries, columns=[\"target\"])\n",
    "    \n",
    "    # shift y by the step forecast\n",
    "    shift = nwp.step.values[step]\n",
    "    y = y.shift(freq=-shift).dropna()\n",
    "    common_index=sorted(pd.DatetimeIndex((set(y.index).intersection(X.index))))\n",
    "    \n",
    "    X, y = X.loc[common_index], y.loc[common_index]\n",
    "    \n",
    "    # add datetime methods for the point at which we are forecasting e.g. now + step\n",
    "    _X = trigonometric_datetime_transformation(y.shift(freq=nwp.step.values[step]).index.values)\n",
    "    _X = pd.DataFrame(_X, index=y.index, columns=TRIG_DATETIME_FEATURE_NAMES)\n",
    "    X = pd.concat([X, _X], axis=1)\n",
    "    \n",
    "    return X, y"
   ]
  },
  {
   "cell_type": "code",
   "execution_count": 144,
   "metadata": {},
   "outputs": [],
   "source": [
    "from xgboost import XGBRegressor\n",
    "from sklearn.metrics import mean_squared_error, mean_absolute_error\n",
    "from dataclasses import dataclass\n",
    "\n",
    "DEFFAULT_HYPARAM_CONFIG = {\n",
    "               'objective': 'reg:squarederror',\n",
    "               'booster': 'gbtree',\n",
    "               'colsample_bylevel': 1,\n",
    "               'colsample_bynode': 1,\n",
    "               'colsample_bytree': 0.85,\n",
    "               'early_stopping_rounds': None,\n",
    "               'gamma': 0,\n",
    "               'gpu_id': -1,\n",
    "               'grow_policy': 'depthwise',\n",
    "               'importance_type': None,\n",
    "               'interaction_constraints': '',\n",
    "               'learning_rate': 0.01,\n",
    "               'max_bin': 256,\n",
    "               'max_cat_threshold': 64,\n",
    "               'max_depth': 50,\n",
    "               'max_leaves': 0,\n",
    "               'min_child_weight': 20,\n",
    "               'n_estimators': 1500,\n",
    "               'n_jobs': -1,\n",
    "               'num_parallel_tree': 1,\n",
    "               'predictor': 'auto',\n",
    "               'random_state': 0,\n",
    "               'reg_alpha': 0,\n",
    "               'reg_lambda': 1,\n",
    "               'sampling_method': 'uniform',\n",
    "               'scale_pos_weight': 1,\n",
    "               'subsample': 0.85,\n",
    "               'tree_method': 'hist',\n",
    "               'validate_parameters': 1,\n",
    "               'verbosity': 1\n",
    " }\n",
    "\n",
    "\n",
    "@dataclass\n",
    "class ExperimentSummary:\n",
    "    mse_train_loss: float\n",
    "    mse_test_loss: float\n",
    "    mae_train_loss: float\n",
    "    mae_test_loss: float\n",
    "    model: XGBRegressor\n",
    "\n",
    "\n",
    "\n",
    "def run_experiment(X: pd.DataFrame,\n",
    "                   y: pd.DataFrame,\n",
    "                   booster_hyperparam_config: dict = DEFFAULT_HYPARAM_CONFIG\n",
    "                   ) -> ExperimentSummary:\n",
    "\n",
    "    # use 2020 as training period and 2021 as test\n",
    "    X_train, y_train = X.loc[X.index < \"2021-01-01\"], y.loc[y.index < \"2021-01-01\"]\n",
    "    X_test, y_test = X.loc[X.index >= \"2021-01-01\"], y.loc[y.index >= \"2021-01-01\"]\n",
    "\n",
    "    model = XGBRegressor(**booster_hyperparam_config)\n",
    "    model.fit(X_train, y_train)\n",
    "    \n",
    "    y_pred_test, y_pred_train = model.predict(X_test), model.predict(X_train)\n",
    "    train_mse, test_mse = mean_squared_error(y_train, y_pred_train), mean_squared_error(y_test, y_pred_test)\n",
    "    train_mae, test_mae = mean_absolute_error(y_train, y_pred_train), mean_absolute_error(y_test, y_pred_test)\n",
    "        \n",
    "    \n",
    "    return ExperimentSummary(\n",
    "        train_mse,\n",
    "        test_mse,\n",
    "        train_mae,\n",
    "        test_mae,\n",
    "        model  # just save the last trained model for nwp\n",
    "    )\n",
    "        "
   ]
  },
  {
   "cell_type": "code",
   "execution_count": 146,
   "metadata": {},
   "outputs": [
    {
     "name": "stdout",
     "output_type": "stream",
     "text": [
      "Completed run for step 0\n",
      "Completed run for step 1\n",
      "Completed run for step 2\n",
      "Completed run for step 3\n",
      "Completed run for step 4\n",
      "Completed run for step 5\n",
      "Completed run for step 6\n",
      "Completed run for step 7\n",
      "Completed run for step 8\n",
      "Completed run for step 9\n",
      "Completed run for step 10\n",
      "Completed run for step 11\n",
      "Completed run for step 12\n",
      "Completed run for step 13\n",
      "Completed run for step 14\n",
      "Completed run for step 15\n",
      "Completed run for step 16\n",
      "Completed run for step 17\n",
      "Completed run for step 18\n",
      "Completed run for step 19\n",
      "Completed run for step 20\n",
      "Completed run for step 21\n",
      "Completed run for step 22\n",
      "Completed run for step 23\n",
      "Completed run for step 24\n",
      "Completed run for step 25\n",
      "Completed run for step 26\n",
      "Completed run for step 27\n",
      "Completed run for step 28\n",
      "Completed run for step 29\n",
      "Completed run for step 30\n",
      "Completed run for step 31\n",
      "Completed run for step 32\n",
      "Completed run for step 33\n",
      "Completed run for step 34\n",
      "Completed run for step 35\n"
     ]
    }
   ],
   "source": [
    "results = dict()\n",
    "\n",
    "for step in range(0, 36):\n",
    "    # can't really multiprocess this since the xgb training maxes out the cores anyway\n",
    "    X, y = build_datasets_from_local(step)\n",
    "    output = run_experiment(X, y)\n",
    "    results[step] = output\n",
    "    print(f\"Completed run for step {step}\")"
   ]
  },
  {
   "cell_type": "code",
   "execution_count": 147,
   "metadata": {},
   "outputs": [],
   "source": [
    "import pickle\n",
    "\n",
    "# with open('/home/tom/local_data/xgb_forecast_steps_v1_ts_split.pkl', 'wb') as f:\n",
    "#     pickle.dump(results, f)\n",
    "\n",
    "with open('/home/tom/local_data/xgb_forecast_steps_v1_ts_split.pkl', 'rb') as f:\n",
    "    results = pickle.load(f)"
   ]
  },
  {
   "cell_type": "markdown",
   "metadata": {},
   "source": [
    "### View the results of the model\n",
    "\n",
    "With this model, we are modelling the PV output at multiple time-steps in the future using NWP forecasts. In particular, we model PV at $t + X$, using NWP forecasts of step $X$ at time $t$. Each time-step regression forecast models are independent (and they also have different covariates)."
   ]
  },
  {
   "cell_type": "code",
   "execution_count": 163,
   "metadata": {},
   "outputs": [
    {
     "data": {
      "image/png": "[encoded data removed]",
      "text/plain": [
       "<Figure size 640x480 with 1 Axes>"
      ]
     },
     "metadata": {},
     "output_type": "display_data"
    }
   ],
   "source": [
    "# plot the MAE of the OOS for each model\n",
    "mae_test = pd.Series({step: r.mse_test_loss for step, r in results.items()})\n",
    "plt.scatter(mae_test.index, mae_test.values)\n",
    "plt.ylabel(\"OOS MSE\")\n",
    "plt.xlabel(\"Hour ahead forecast\")\n",
    "plt.show()"
   ]
  },
  {
   "cell_type": "markdown",
   "metadata": {},
   "source": [
    "Comment:\n",
    "Looks like there was significantly more data leakage than I thought there would be! Also makes sense why the longer horizon forecasts would be better - they're probably less noisy so the NN lookup is easier. Good to see rough decay in performance as time horizon increases. We will try and understand the cyclical nature of the errors next."
   ]
  },
  {
   "cell_type": "code",
   "execution_count": 67,
   "metadata": {},
   "outputs": [],
   "source": [
    "# rerun experiments but this time condition on the time point we are forecasting - so we can get an intution for model performance at different parts of the day.\n",
    "\n",
    "@dataclass\n",
    "class ExperimentSummarySplitBuckets:\n",
    "    mse_train_loss_splits: dict\n",
    "    mse_test_loss_splits: dict\n",
    "    mae_train_loss_splits: dict\n",
    "    mae_test_loss_splits: dict\n",
    "    model: XGBRegressor\n",
    "\n",
    "\n",
    "SPLIT_TIME_BUCKETS_HOURS = [0, 5, 11, 15, 21, 24]\n",
    "SPLIT_TIME_BUCKETS_LABELS = [\"night\", \"morning\", \"day\", \"evening\", \"night\"]\n",
    "\n",
    "\n",
    "def run_experiment_for_day_night_split(X: pd.DataFrame,\n",
    "                   y: pd.DataFrame,\n",
    "                   forecast_shift: np.datetime64,\n",
    "                   booster_hyperparam_config: dict = DEFFAULT_HYPARAM_CONFIG,\n",
    "                   ) -> ExperimentSummarySplitBuckets:\n",
    "    \n",
    "    \n",
    "    train_mse, train_mae, test_mse, test_mae = dict(), dict(), dict(), dict()\n",
    "\n",
    "    # use 2020 as training period and 2021 as test\n",
    "    X_train, y_train = X.loc[X.index < \"2021-01-01\"], y.loc[y.index < \"2021-01-01\"]\n",
    "    X_test, y_test = X.loc[X.index >= \"2021-01-01\"], y.loc[y.index >= \"2021-01-01\"]\n",
    "\n",
    "    model = XGBRegressor(**booster_hyperparam_config)\n",
    "    model.fit(X_train, y_train)\n",
    "    \n",
    "    # when evaluating the model, condition on the time we are forecasting\n",
    "    eval_timeseries_train = y_train.shift(freq=forecast_shift).index\n",
    "    eval_timeseries_test = y_test.shift(freq=forecast_shift).index\n",
    "    splits_train = pd.cut(eval_timeseries_train.hour, SPLIT_TIME_BUCKETS_HOURS, retbins=False, right=True, include_lowest=True, labels=SPLIT_TIME_BUCKETS_LABELS, ordered=False)\n",
    "    splits_test = pd.cut(eval_timeseries_test.hour, SPLIT_TIME_BUCKETS_HOURS, retbins=False, right=True, include_lowest=True, labels=SPLIT_TIME_BUCKETS_LABELS, ordered=False)\n",
    "    \n",
    "    for split in SPLIT_TIME_BUCKETS_LABELS:\n",
    "        _X_train, _y_train = X_train.loc[splits_train == split], y_train.loc[splits_train == split]\n",
    "        _X_test, _y_test = X_test.loc[splits_test == split], y_test.loc[splits_test == split]\n",
    "        y_pred_test, y_pred_train = model.predict(_X_test), model.predict(_X_train)    \n",
    "        \n",
    "        train_mae[split], test_mae[split] = mean_absolute_error(_y_train, y_pred_train), mean_absolute_error(_y_test, y_pred_test)\n",
    "        train_mse[split], test_mse[split] = mean_squared_error(_y_train, y_pred_train), mean_squared_error(_y_test, y_pred_test)\n",
    "    \n",
    "    \n",
    "    return ExperimentSummarySplitBuckets(\n",
    "        train_mse,\n",
    "        test_mse,\n",
    "        train_mae,\n",
    "        test_mae,\n",
    "        model  # just save the last trained model for nwo\n",
    "    )"
   ]
  },
  {
   "cell_type": "code",
   "execution_count": 70,
   "metadata": {},
   "outputs": [],
   "source": [
    "day_split_results = dict()\n",
    "\n",
    "for step in range(36):\n",
    "    X, y = build_datasets_from_local(step)\n",
    "    shift = nwp.coords[\"step\"].values[step]\n",
    "    day_split_results[step] = run_experiment_for_day_night_split(X, y, shift)"
   ]
  },
  {
   "cell_type": "code",
   "execution_count": 164,
   "metadata": {},
   "outputs": [
    {
     "data": {
      "text/plain": [
       "Text(0.5, 0, 'Forecast Horizon')"
      ]
     },
     "execution_count": 164,
     "metadata": {},
     "output_type": "execute_result"
    },
    {
     "data": {
      "image/png": "[encoded data removed]",
      "text/plain": [
       "<Figure size 640x480 with 1 Axes>"
      ]
     },
     "metadata": {},
     "output_type": "display_data"
    }
   ],
   "source": [
    "pd.DataFrame.from_dict({step: r.mse_test_loss_splits for step, r in day_split_results.items()}).T.plot()\n",
    "plt.title(\"Condition Eval on Time Buckets\")\n",
    "plt.ylabel(\"OOS MSE\")\n",
    "plt.xlabel(\"Forecast Horizon\")"
   ]
  },
  {
   "cell_type": "code",
   "execution_count": null,
   "metadata": {},
   "outputs": [],
   "source": []
  }
 ],
 "metadata": {
  "kernelspec": {
   "display_name": "Python 3.10.8 ('xg_pv')",
   "language": "python",
   "name": "python3"
  },
  "language_info": {
   "codemirror_mode": {
    "name": "ipython",
    "version": 3
   },
   "file_extension": ".py",
   "mimetype": "text/x-python",
   "name": "python",
   "nbconvert_exporter": "python",
   "pygments_lexer": "ipython3",
   "version": "3.10.8 | packaged by conda-forge | (main, Nov 22 2022, 08:23:14) [GCC 10.4.0]"
  },
  "orig_nbformat": 4,
  "vscode": {
   "interpreter": {
    "hash": "d6d38ec70d70ff95971ecacbbcc644fed77284fe18ba773f3d73e7a6117402b2"
   }
  }
 },
 "nbformat": 4,
 "nbformat_minor": 2
}
